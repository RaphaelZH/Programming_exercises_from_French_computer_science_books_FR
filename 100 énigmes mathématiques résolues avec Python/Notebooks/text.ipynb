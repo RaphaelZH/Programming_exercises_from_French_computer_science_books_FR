{
 "cells": [
  {
   "cell_type": "code",
   "execution_count": 1,
   "metadata": {},
   "outputs": [],
   "source": [
    "import itertools\n",
    "import math\n",
    "import re"
   ]
  },
  {
   "cell_type": "markdown",
   "metadata": {},
   "source": [
    "# Chapitre 1 - CARRÉS\n",
    "\n",
    "## Énoncés\n",
    "\n",
    "### Trois carrés pour le prix d'un\n",
    "\n",
    "49 est un carré à deux chiffres. Si on le découpe en deux nombres 4 et 9, on obtient deux carrés à un chiffre. 49 est le seul carré à deux chiffres possédant cette particularité.\n",
    "\n",
    "***Question:*** Trouver l'unique carré à quatre chiffres tel que ses deux premiers chiffres et ses deux derniers représentent deux carrés à  deux chiffres."
   ]
  },
  {
   "cell_type": "code",
   "execution_count": 2,
   "metadata": {},
   "outputs": [
    {
     "name": "stdout",
     "output_type": "stream",
     "text": [
      "1681\n"
     ]
    }
   ],
   "source": [
    "def integer_square_root_range(square_min, square_max):\n",
    "    # \n",
    "    return range(math.isqrt(square_min) + 1, math.isqrt(square_max - 1) + 1)\n",
    "\n",
    "\n",
    "for digits_a, digits_b in itertools.product(\n",
    "    integer_square_root_range(10, 10**2), repeat=2\n",
    "):\n",
    "    if math.sqrt(digits_a**2 * 10**2 + digits_b**2).is_integer():\n",
    "        print(digits_a**2 * 10**2 + digits_b**2)"
   ]
  },
  {
   "cell_type": "markdown",
   "metadata": {},
   "source": []
  },
  {
   "cell_type": "code",
   "execution_count": 3,
   "metadata": {},
   "outputs": [
    {
     "name": "stdout",
     "output_type": "stream",
     "text": [
      "60996100\n"
     ]
    }
   ],
   "source": [
    "for digits_a in range(10**3, 10**4 - 1):\n",
    "    digits_b = digits_a + 1\n",
    "    if math.sqrt(digits_a * 10**4 + digits_b).is_integer():\n",
    "        print(digits_a * 10**4 + digits_b)"
   ]
  },
  {
   "cell_type": "markdown",
   "metadata": {},
   "source": []
  },
  {
   "cell_type": "code",
   "execution_count": 4,
   "metadata": {},
   "outputs": [
    {
     "name": "stdout",
     "output_type": "stream",
     "text": [
      "567 321489\n",
      "854 729316\n"
     ]
    }
   ],
   "source": [
    "def unequal_numbers(num, *args):\n",
    "    string_num = str(num)\n",
    "    for arg in args:\n",
    "        string_num += str(arg)\n",
    "    num_list = [int(x) for x in str(string_num)]\n",
    "    if len(num_list) == len(set(num_list)):\n",
    "        return True\n",
    "    else:\n",
    "        False\n",
    "\n",
    "\n",
    "for digits_a in integer_square_root_range(10**5, 10**6):\n",
    "    digits_b = digits_a**2\n",
    "    if unequal_numbers(digits_a, digits_b) and not (\n",
    "        re.search(r\"0\", str(digits_a) + str(digits_b))\n",
    "    ):\n",
    "        print(digits_a, digits_b)"
   ]
  },
  {
   "cell_type": "code",
   "execution_count": 5,
   "metadata": {},
   "outputs": [
    {
     "name": "stdout",
     "output_type": "stream",
     "text": [
      "10036224 42263001\n",
      "42263001 10036224\n"
     ]
    }
   ],
   "source": [
    "def inverse_order(number):\n",
    "    string_1 = str(number)\n",
    "    string_2 = string_1[::-1]\n",
    "    return int(string_2)\n",
    "\n",
    "\n",
    "for digits_a in integer_square_root_range(10**7, 10**8):\n",
    "    digits_b = inverse_order(digits_a**2)\n",
    "    if math.sqrt(digits_b).is_integer() and digits_b > 10**7:\n",
    "        print(digits_a**2, digits_b)"
   ]
  },
  {
   "cell_type": "code",
   "execution_count": null,
   "metadata": {},
   "outputs": [],
   "source": []
  },
  {
   "cell_type": "code",
   "execution_count": null,
   "metadata": {},
   "outputs": [],
   "source": []
  }
 ],
 "metadata": {
  "kernelspec": {
   "display_name": "venv-python3-10",
   "language": "python",
   "name": "python3"
  },
  "language_info": {
   "codemirror_mode": {
    "name": "ipython",
    "version": 3
   },
   "file_extension": ".py",
   "mimetype": "text/x-python",
   "name": "python",
   "nbconvert_exporter": "python",
   "pygments_lexer": "ipython3",
   "version": "3.10.14"
  }
 },
 "nbformat": 4,
 "nbformat_minor": 2
}
